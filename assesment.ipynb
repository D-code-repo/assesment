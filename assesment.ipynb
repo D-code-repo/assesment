{
 "cells": [
  {
   "cell_type": "markdown",
   "metadata": {},
   "source": [
    "######Function to repalce a string in text file######"
   ]
  },
  {
   "cell_type": "code",
   "execution_count": 47,
   "metadata": {},
   "outputs": [],
   "source": [
    "#function to search and replace string from text file.\n",
    "def re_place(f_name, s_text, r_text):\n",
    "    #reading a file \n",
    "    with open(f_name, 'r') as file:\n",
    "        f_data=file.read()\n",
    "        f_data=f_data.replace(s_text,r_text)\n",
    "\n",
    "    #write replace string to file\n",
    "    with open(f_name,'w')   as file:\n",
    "        file.write(f_data)\n",
    "        print('string replaced in file')\n",
    "        file.close()"
   ]
  },
  {
   "cell_type": "code",
   "execution_count": 48,
   "metadata": {},
   "outputs": [
    {
     "name": "stdout",
     "output_type": "stream",
     "text": [
      "string replaced in file\n"
     ]
    }
   ],
   "source": [
    "s_text=input('Enter serch string:')\n",
    "r_text=input('Enter replace string:')\n",
    "f_name=\"datafile.txt\"\n",
    "re_place(f_name,s_text,r_text)"
   ]
  },
  {
   "cell_type": "code",
   "execution_count": 49,
   "metadata": {},
   "outputs": [
    {
     "name": "stdout",
     "output_type": "stream",
     "text": [
      "This is a screening assignment..\n"
     ]
    }
   ],
   "source": [
    "f=open('datafile.txt','r')\n",
    "print(f.read())"
   ]
  },
  {
   "cell_type": "markdown",
   "metadata": {},
   "source": [
    "############## Multiple Inheritance ##############"
   ]
  },
  {
   "cell_type": "code",
   "execution_count": 13,
   "metadata": {},
   "outputs": [
    {
     "name": "stdout",
     "output_type": "stream",
     "text": [
      "Multiple Inheritance process\n",
      "c= 2.0\n",
      "c= 0.5\n"
     ]
    }
   ],
   "source": [
    "#initialising class1\n",
    "class calc1():\n",
    "    def sub(self,a, b):\n",
    "        self.a=a\n",
    "        self.b=b\n",
    "        print('c=',a/b)\n",
    "\n",
    "#initialising class2\n",
    "class calc2():  \n",
    "    def sub(self,a, b):\n",
    "        self.a=a\n",
    "        self.b=b\n",
    "        print('c=',b/a)\n",
    "\n",
    "#inheriting class1 and class2 in class3\n",
    "class calc(calc1,calc2):\n",
    "    def sub(self,a,b):\n",
    "        self.a=a\n",
    "        self.b=b\n",
    "        print('Multiple Inheritance process')\n",
    "        calc1.sub(self,a,b)\n",
    "        calc2.sub(self,a,b)\n",
    "\n",
    "#creating object of inherited class \n",
    "obj=calc()\n",
    "obj.sub(10,5)"
   ]
  },
  {
   "cell_type": "markdown",
   "metadata": {},
   "source": [
    "#######Abstract Class################"
   ]
  },
  {
   "cell_type": "code",
   "execution_count": 18,
   "metadata": {},
   "outputs": [
    {
     "name": "stdout",
     "output_type": "stream",
     "text": [
      "Happy purchasing\n",
      "Total dicount: 750.0\n"
     ]
    }
   ],
   "source": [
    "from abc import ABC, abstractmethod\n",
    "\n",
    "#abstract class\n",
    "class purchase(ABC):\n",
    "\n",
    "    def sales(self):\n",
    "        print('Happy purchasing')\n",
    "\n",
    "    @abstractmethod\n",
    "    def discount(self,tot_pur):\n",
    "        \"Abstract Method\"\n",
    "        pass\n",
    "#sub class\n",
    "class bill(purchase):\n",
    "\n",
    "    def discount(self,tot_pur):\n",
    "        print('Total dicount:',tot_pur*0.15)\n",
    "\n",
    "s_obj=bill()\n",
    "s_obj.sales()\n",
    "s_obj.discount(5000)"
   ]
  },
  {
   "cell_type": "markdown",
   "metadata": {},
   "source": [
    "##########Decorator ############"
   ]
  },
  {
   "cell_type": "code",
   "execution_count": 45,
   "metadata": {},
   "outputs": [
    {
     "name": "stdout",
     "output_type": "stream",
     "text": [
      "50\n"
     ]
    }
   ],
   "source": [
    "def out_funt(func):\n",
    "    def in_funct(x,y):\n",
    "        if x<0:\n",
    "            x=0\n",
    "        if y<0:\n",
    "            y=0\n",
    "        return func(x,y)\n",
    "    return in_funct\n",
    "\n",
    "def add(a,b):\n",
    "   res = a + b\n",
    "   return res\n",
    "\n",
    "add = out_funt(add)\n",
    "print(add(20,30))"
   ]
  },
  {
   "cell_type": "code",
   "execution_count": 46,
   "metadata": {},
   "outputs": [
    {
     "name": "stdout",
     "output_type": "stream",
     "text": [
      "5\n"
     ]
    }
   ],
   "source": [
    "@out_funt\n",
    "def add(a,b):\n",
    "   res = a + b\n",
    "   return res\n",
    "\n",
    "print(add(-10,5))"
   ]
  },
  {
   "cell_type": "code",
   "execution_count": null,
   "metadata": {},
   "outputs": [],
   "source": []
  }
 ],
 "metadata": {
  "interpreter": {
   "hash": "7c9cdd805f6dd8781963c036b5b0607dbb20d23a5f1320aeffd576c02ca43519"
  },
  "kernelspec": {
   "display_name": "Python 3.9.7 ('.venv': venv)",
   "language": "python",
   "name": "python3"
  },
  "language_info": {
   "codemirror_mode": {
    "name": "ipython",
    "version": 3
   },
   "file_extension": ".py",
   "mimetype": "text/x-python",
   "name": "python",
   "nbconvert_exporter": "python",
   "pygments_lexer": "ipython3",
   "version": "3.9.7"
  },
  "orig_nbformat": 4
 },
 "nbformat": 4,
 "nbformat_minor": 2
}
